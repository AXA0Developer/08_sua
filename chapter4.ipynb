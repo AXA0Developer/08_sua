{
  "nbformat": 4,
  "nbformat_minor": 0,
  "metadata": {
    "colab": {
      "provenance": [],
      "authorship_tag": "ABX9TyM4DcZQQnZU1imjj7N62n1N",
      "include_colab_link": true
    },
    "kernelspec": {
      "name": "python3",
      "display_name": "Python 3"
    },
    "language_info": {
      "name": "python"
    }
  },
  "cells": [
    {
      "cell_type": "markdown",
      "metadata": {
        "id": "view-in-github",
        "colab_type": "text"
      },
      "source": [
        "<a href=\"https://colab.research.google.com/github/AXA0Developer/08_sua/blob/main/chapter4.ipynb\" target=\"_parent\"><img src=\"https://colab.research.google.com/assets/colab-badge.svg\" alt=\"Open In Colab\"/></a>"
      ]
    },
    {
      "cell_type": "markdown",
      "source": [
        "##사칙연산\n",
        "더하기 : +\n",
        "뺴기 : -\n",
        "곱하기 : *\n",
        "나누기 :\n",
        "\n",
        "*   / : 우리가 알고있는 기능과 동일한 기능 (예 : 5/2 = 2.5)\n",
        "*   //: 몫을 반환 (예 : 5/2 = 2)\n",
        "*   % : 나머지를 반환 (예 : 5/2 = 1)\n",
        "\n",
        "거듭제곱 : **\n"
      ],
      "metadata": {
        "id": "1C0B4bPIH5ij"
      }
    },
    {
      "cell_type": "code",
      "execution_count": null,
      "metadata": {
        "colab": {
          "base_uri": "https://localhost:8080/"
        },
        "id": "Su_rdbMqH1hg",
        "outputId": "d4461b3f-0ecc-4093-ad54-319f7c1e40c9"
      },
      "outputs": [
        {
          "output_type": "stream",
          "name": "stdout",
          "text": [
            "5\n"
          ]
        }
      ],
      "source": [
        "# 더하기\n",
        "print(3 + 2)"
      ]
    },
    {
      "cell_type": "code",
      "source": [
        "# 뺴기\n",
        "print(3 - 1)"
      ],
      "metadata": {
        "colab": {
          "base_uri": "https://localhost:8080/"
        },
        "id": "lmuV5ECuJn2b",
        "outputId": "7418569f-5429-4a35-d8b6-70fc2cddee75"
      },
      "execution_count": null,
      "outputs": [
        {
          "output_type": "stream",
          "name": "stdout",
          "text": [
            "2\n"
          ]
        }
      ]
    },
    {
      "cell_type": "code",
      "source": [
        "# 곱하기\n",
        "print(3 * 2)"
      ],
      "metadata": {
        "colab": {
          "base_uri": "https://localhost:8080/"
        },
        "id": "5uxpucunJzrn",
        "outputId": "8113325e-9f5b-44ca-cee8-f4cc0bbcccea"
      },
      "execution_count": null,
      "outputs": [
        {
          "output_type": "stream",
          "name": "stdout",
          "text": [
            "6\n"
          ]
        }
      ]
    },
    {
      "cell_type": "code",
      "source": [
        "# /\n",
        "print(7 / 2)\n",
        "\n",
        "# //\n",
        "print(7 // 2)\n",
        "\n",
        "# %\n",
        "print(7 % 2)"
      ],
      "metadata": {
        "colab": {
          "base_uri": "https://localhost:8080/"
        },
        "id": "m9h4ic5YKISy",
        "outputId": "ba38cee4-e93e-4af4-b025-c0427d831d87"
      },
      "execution_count": null,
      "outputs": [
        {
          "output_type": "stream",
          "name": "stdout",
          "text": [
            "3.5\n",
            "3\n",
            "1\n"
          ]
        }
      ]
    },
    {
      "cell_type": "markdown",
      "source": [
        "내장함수 : divmod\n",
        "\n",
        ">내장항수 : 자주 사용하는 기능을 미리 만들어놓은 것을 내장항수라고 함\n",
        "\n",
        "divmod : 목과 나머지를 동시에 구해줌"
      ],
      "metadata": {
        "id": "rni7OdvZKzQq"
      }
    },
    {
      "cell_type": "code",
      "source": [
        "print(divmod(3 , 2))\n",
        "print(divmod(7 , 4))\n",
        "print(divmod(13 , 2))\n",
        "print(divmod(19 , 4))\n",
        "print(divmod(15 , 5))\n",
        "\n",
        "print(7 // 4,\" ,\" , 7%4)\n"
      ],
      "metadata": {
        "colab": {
          "base_uri": "https://localhost:8080/"
        },
        "id": "yHGqgqfdLOqO",
        "outputId": "f86cff96-57df-4559-ea6e-9bfdad74f4e4"
      },
      "execution_count": null,
      "outputs": [
        {
          "output_type": "stream",
          "name": "stdout",
          "text": [
            "(1, 1)\n",
            "(1, 3)\n",
            "(6, 1)\n",
            "(4, 3)\n",
            "(3, 0)\n",
            "1  , 3\n"
          ]
        }
      ]
    },
    {
      "cell_type": "markdown",
      "source": [
        "###괄호\n",
        "\n",
        "수학에서 사용되는 괄호와 동일한 기능\n",
        "() : 괄호 안에 있는것을 먼저 계산\n",
        "사칙연산 순서 => 괄호 > 곱셈, 나눗셈 > 덧셈, 뱰세"
      ],
      "metadata": {
        "id": "NbKyGabXMORH"
      }
    },
    {
      "cell_type": "code",
      "source": [
        "3 + 2 * 4"
      ],
      "metadata": {
        "colab": {
          "base_uri": "https://localhost:8080/"
        },
        "id": "UMVZpziuMOEw",
        "outputId": "cd81a329-ca3b-48f2-a91e-36d23d5903d5"
      },
      "execution_count": null,
      "outputs": [
        {
          "output_type": "execute_result",
          "data": {
            "text/plain": [
              "11"
            ]
          },
          "metadata": {},
          "execution_count": 9
        }
      ]
    },
    {
      "cell_type": "code",
      "source": [
        "(3 + 2) * 4"
      ],
      "metadata": {
        "colab": {
          "base_uri": "https://localhost:8080/"
        },
        "id": "bcnZgFhMMyU7",
        "outputId": "7c784e2a-02d5-46db-d87e-2e03b1348f87"
      },
      "execution_count": null,
      "outputs": [
        {
          "output_type": "execute_result",
          "data": {
            "text/plain": [
              "20"
            ]
          },
          "metadata": {},
          "execution_count": 10
        }
      ]
    }
  ]
}