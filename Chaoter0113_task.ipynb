{
 "cells": [
  {
   "cell_type": "markdown",
   "metadata": {
    "id": "fD4Qab2qYgOm"
   },
   "source": [
    "안녕하세요. 수강생 여러분~! \n",
    "\n",
    "Chapter01 ~ 13의 수업 내용을 바탕으로 아래 문제를 풀어주시면 됩니다 !\n",
    "\n",
    "지금까지 잘 해오셨으니까, 총 복습한다고 생각하시고 한번 도전해보세요 !!!\n",
    "\n",
    "\n",
    "<br>\n",
    "\n",
    "\n",
    "[**답변 입력 방법**]\n",
    "\n",
    "문제 아래에 있는 코드 입력창에 정답코드를 작성하신 후  __▷ 버튼을 클릭해 코드를 실행__ 해보세요<br>"
   ]
  },
  {
   "cell_type": "markdown",
   "metadata": {},
   "source": [
    "---"
   ]
  },
  {
   "cell_type": "markdown",
   "metadata": {},
   "source": [
    "### 프로젝트: 간단한 ATM 관리 시스템\n",
    "<br>\n",
    "\n",
    "__[문제 1: 잔액 확인]__\n",
    "\n",
    "현재 잔액은 1000원입니다. 현재 잔액을 출력하세요. \n",
    "\n",
    "(변수명 예시 : 잔액 - balance)"
   ]
  },
  {
   "cell_type": "code",
   "execution_count": 2,
   "metadata": {},
   "outputs": [
    {
     "name": "stdout",
     "output_type": "stream",
     "text": [
      "1000\n"
     ]
    }
   ],
   "source": [
    "balance = 1000\n",
    "print(balance)"
   ]
  },
  {
   "cell_type": "markdown",
   "metadata": {},
   "source": [
    "__[문제 2: 입금]__\n",
    "\n",
    "가지고 있는 돈을 입금합니다.\n",
    "\n",
    "입금 금액을 입력받고, 잔액을 갱신한 후 새로운 잔액을 출력하세요. 입금 거래를 영수증 리스트에 기록하세요.\n",
    "\n",
    "- 입금 금액은 input()을 이용해 받습니다.\n",
    "- 영수증은 list()로 선언합니다.\n",
    "- 영수증에 들어가는 정보는 튜플 형태입니다.\n",
    "- 튜플에 담기는 정보는 (입금 or 출금, 입금 or 출금 금액, 현재 잔액)순 입니다.\n",
    "\n",
    "(변수명 예시: 영수증 리스트 - receipts, 입금 금액 - deposit_amount)\n"
   ]
  },
  {
   "cell_type": "code",
   "execution_count": null,
   "metadata": {},
   "outputs": [],
   "source": [
    "receipts = [] # 빈 리스트는 대가로\n",
    "\n",
    "balance = 1000 #3000\n",
    "\n",
    "while True:\n",
    "    num = int(input(\"사용하실 기능을 선택해주세요 (1:입금, 2:출금, 3:영수증보기), 4:종료\"))\n",
    "    if num == \"1\":\n",
    "\n",
    "        # 입금가능\n",
    "        deposit_amount = int(input(\"입금할 금액을 입력해주세요 : \")) #3000 문자형태 \"3000\"\n",
    "        balance += deposit_amount #balance = balance + deposit_amount\n",
    "        receipts.append((\"입금\",deposit_amount,balance))\n",
    "        print(f'입금하신 금액은{deposit_amount}입니다. 현재 잔액은{balance}입니다.')\n",
    "    elif num == \"2\":\n",
    "        #출금기능\n",
    "        withdraw_amount = int(input(\"출금할 금액을 입력해주세요 : \")) #3000 문자형태 \"3000\"\n",
    "        withdraw_amount = min(balance,withdraw_amount) #(4000 6000) / (5000 10000) / (5000 3000) 내장함수 min 을 사용해볼 수 있다\n",
    "        balance -= withdraw_amount #balance = balance - withdraw_amount\n",
    "        receipts.append((\"출금\",withdraw_amount,balance))\n",
    "        print('출금하신 금액은{withdraw_amount}입니다. 현재 잔액은{balance}입니다.')\n",
    "    elif num == \"3\":\n",
    "        #영수증 내역 출력\n",
    "\n",
    "        print(receipts)\n",
    "    elif num == \"4\":\n",
    "        break\n",
    "\n",
    "print(\"서비스를 종료합니다. 현재 잔액은 {balance}입니다.\")    "
   ]
  },
  {
   "cell_type": "markdown",
   "metadata": {},
   "source": [
    "__[문제 3: 출금]__\n",
    "\n",
    "사용자가 돈을 출금합니다. 출금 금액을 입력받고, 잔액을 갱신한 후 새로운 잔액을 출력하세요. 출금 거래를 영수증 리스트에 기록하세요. \n",
    "\n",
    "- 출금 금액은 input()을 이용해 받습니다.\n",
    "- 현재 잔액보다 출금 요청 금액이 많을 경우 현재 잔액 만큼만 출금되도록 합니다.\n",
    "- 영수증에 들어가는 정보는 튜플 형태입니다.\n",
    "- 튜플에 담기는 정보는 (입금 or 출금, 입금 or 출금 금액, 현재 잔액)순 입니다.\n",
    "\n",
    "(변수명 예시: 출금금액 - withdraw_amount)"
   ]
  },
  {
   "cell_type": "code",
   "execution_count": 1,
   "metadata": {},
   "outputs": [
    {
     "ename": "NameError",
     "evalue": "name 'balance' is not defined",
     "output_type": "error",
     "traceback": [
      "\u001b[0;31m---------------------------------------------------------------------------\u001b[0m",
      "\u001b[0;31mNameError\u001b[0m                                 Traceback (most recent call last)",
      "Cell \u001b[0;32mIn[1], line 2\u001b[0m\n\u001b[1;32m      1\u001b[0m withdraw_amount \u001b[38;5;241m=\u001b[39m \u001b[38;5;28mint\u001b[39m(\u001b[38;5;28minput\u001b[39m(\u001b[38;5;124m\"\u001b[39m\u001b[38;5;124m출금할 금액을 입력해주세요 : \u001b[39m\u001b[38;5;124m\"\u001b[39m)) \u001b[38;5;66;03m#3000 문자형태 \"3000\"\u001b[39;00m\n\u001b[0;32m----> 2\u001b[0m withdraw_amount \u001b[38;5;241m=\u001b[39m \u001b[38;5;28mmin\u001b[39m(\u001b[43mbalance\u001b[49m,withdraw_amount) \u001b[38;5;66;03m#(4000 6000) / (5000 10000) / (5000 3000) 내장함수 min 을 사용해볼 수 있다\u001b[39;00m\n\u001b[1;32m      3\u001b[0m balance \u001b[38;5;241m-\u001b[39m\u001b[38;5;241m=\u001b[39m withdraw_amount \u001b[38;5;66;03m#balance = balance - withdraw_amount\u001b[39;00m\n\u001b[1;32m      4\u001b[0m receipts\u001b[38;5;241m.\u001b[39mappend((\u001b[38;5;124m\"\u001b[39m\u001b[38;5;124m출금\u001b[39m\u001b[38;5;124m\"\u001b[39m,withdraw_amount,balance))\n",
      "\u001b[0;31mNameError\u001b[0m: name 'balance' is not defined"
     ]
    }
   ],
   "source": [
    "withdraw_amount = int(input(\"출금할 금액을 입력해주세요 : \")) #3000 문자형태 \"3000\"\n",
    "withdraw_amount = min(balance,withdraw_amount) #(4000 6000) / (5000 10000) / (5000 3000) 내장함수 min 을 사용해볼 수 있다\n",
    "balance -= withdraw_amount #balance = balance - withdraw_amount\n",
    "receipts.append((\"출금\",withdraw_amount,balance))\n",
    "print('출금하신 금액은{withdraw_amount}입니다. 현재 잔액은{balance}입니다.')"
   ]
  },
  {
   "cell_type": "markdown",
   "metadata": {},
   "source": [
    "__[문제 4: 모든 거래 내역 확인]__\n",
    "\n",
    "모든 거래 내역(영수증)을 요청받았을 때 출력하세요.\n",
    "- 지금까지 영수증에 추가된 정보를 출력합니다.\n",
    "- 출력 형태는 자유입니다."
   ]
  },
  {
   "cell_type": "code",
   "execution_count": null,
   "metadata": {},
   "outputs": [],
   "source": [
    "receipts = [] # 빈 리스트는 대가로\n",
    "\n",
    "balance = 1000 #3000\n",
    "\n",
    "while True:\n",
    "    num = int(input(\"사용하실 기능을 선택해주세요 (1:입금, 2:출금, 3:영수증보기), 4:종료\"))\n",
    "    if num == \"1\":\n",
    "\n",
    "        # 입금가능\n",
    "        deposit_amount = int(input(\"입금할 금액을 입력해주세요 : \")) #3000 문자형태 \"3000\"\n",
    "        balance += deposit_amount #balance = balance + deposit_amount\n",
    "        receipts.append((\"입금\",deposit_amount,balance))\n",
    "        print(f'입금하신 금액은{deposit_amount}입니다. 현재 잔액은{balance}입니다.')\n",
    "    elif num == \"2\":\n",
    "        #출금기능\n",
    "        withdraw_amount = int(input(\"출금할 금액을 입력해주세요 : \")) #3000 문자형태 \"3000\"\n",
    "        withdraw_amount = min(balance,withdraw_amount) #(4000 6000) / (5000 10000) / (5000 3000) 내장함수 min 을 사용해볼 수 있다\n",
    "        balance -= withdraw_amount #balance = balance - withdraw_amount\n",
    "        receipts.append((\"출금\",withdraw_amount,balance))\n",
    "        print('출금하신 금액은{withdraw_amount}입니다. 현재 잔액은{balance}입니다.')\n",
    "    elif num == \"3\":\n",
    "        #영수증 내역 출력\n",
    "\n",
    "        print(receipts)\n",
    "    elif num == \"4\":\n",
    "        break\n",
    "\n",
    "print(\"서비스를 종료합니다. 현재 잔액은 {balance}입니다.\")    "
   ]
  }
 ],
 "metadata": {
  "colab": {
   "authorship_tag": "ABX9TyOA/CeX7CUdbTKFxV0fsocV",
   "provenance": []
  },
  "kernelspec": {
   "display_name": "Python 3",
   "name": "python3"
  },
  "language_info": {
   "codemirror_mode": {
    "name": "ipython",
    "version": 3
   },
   "file_extension": ".py",
   "mimetype": "text/x-python",
   "name": "python",
   "nbconvert_exporter": "python",
   "pygments_lexer": "ipython3",
   "version": "3.9.6"
  }
 },
 "nbformat": 4,
 "nbformat_minor": 0
}
